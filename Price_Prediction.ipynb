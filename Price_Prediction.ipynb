{
 "cells": [
  {
   "cell_type": "markdown",
   "metadata": {},
   "source": [
    "# House Price Prediction\n"
   ]
  },
  {
   "cell_type": "markdown",
   "metadata": {},
   "source": [
    "# Importing libraries"
   ]
  },
  {
   "cell_type": "code",
   "execution_count": 483,
   "metadata": {},
   "outputs": [],
   "source": [
    "import numpy as np\n",
    "import pandas as pd\n",
    "from sklearn import preprocessing\n",
    "from sklearn.preprocessing import StandardScaler\n",
    "from sklearn.model_selection import train_test_split\n",
    "import matplotlib.pyplot as plt"
   ]
  },
  {
   "cell_type": "markdown",
   "metadata": {},
   "source": [
    "# Importing Data "
   ]
  },
  {
   "cell_type": "code",
   "execution_count": 484,
   "metadata": {},
   "outputs": [
    {
     "name": "stdout",
     "output_type": "stream",
     "text": [
      "(506, 13)\n",
      "(506, 1)\n"
     ]
    }
   ],
   "source": [
    "data=pd.read_csv('Boston.csv')      #Making dataframe\n",
    "\n",
    "X=data.iloc[:,1:-1].values\n",
    "\n",
    "Y=data.iloc[:,-1:].values\n",
    "\n",
    "print(X.shape)\n",
    "print(Y.shape)"
   ]
  },
  {
   "cell_type": "markdown",
   "metadata": {},
   "source": [
    "# Feature scaling/normalization: (Z-score Normalisation)¶"
   ]
  },
  {
   "cell_type": "code",
   "execution_count": 485,
   "metadata": {},
   "outputs": [],
   "source": [
    "NX = preprocessing.scale(X)"
   ]
  },
  {
   "cell_type": "markdown",
   "metadata": {},
   "source": [
    "# Splitting data into training and testing data"
   ]
  },
  {
   "cell_type": "code",
   "execution_count": 486,
   "metadata": {},
   "outputs": [],
   "source": [
    "X_train,X_test,Y_train,Y_test=train_test_split(NX,Y,test_size=0.1)\n",
    "\n",
    "IX_train=np.append(arr=np.ones((len(X_train),1)),values=X_train,axis=1)    #Adding column of 1 to the matrix\n",
    "IX_test=np.append(arr=np.ones((len(X_test),1)),values=X_test,axis=1)    #Adding column of 1 to the matrix"
   ]
  },
  {
   "cell_type": "code",
   "execution_count": 487,
   "metadata": {},
   "outputs": [],
   "source": [
    "def alpha_function(A,e):\n",
    "    value=np.dot(A.T,A)\n",
    "    value=np.linalg.norm(value)\n",
    "    value=value+e\n",
    "    value=1.0/value\n",
    "    return value"
   ]
  },
  {
   "cell_type": "markdown",
   "metadata": {},
   "source": [
    "# Training the model (Batch GDM)"
   ]
  },
  {
   "cell_type": "code",
   "execution_count": 488,
   "metadata": {},
   "outputs": [],
   "source": [
    "epsilon=10**(-8)\n",
    "tol=10**(-8)\n",
    "maxiter=100000\n",
    "\n",
    "\n",
    "def train_model(IX_train,Y_train,epsilon,Tol,maxiter,new_alpha=None):\n",
    "    \n",
    "    theta=np.ones((14, 1))\n",
    "    \n",
    "    for i in range(maxiter):\n",
    "        gradient=np.dot(Y_train.T,IX_train) - np.dot(theta.T,np.dot(IX_train.T,IX_train)+epsilon*np.array([[1]]))\n",
    "        if np.all((gradient == 0)):\n",
    "            break\n",
    "        old = theta\n",
    "        alpha = alpha_function(IX_train, epsilon)\n",
    "        if new_alpha!= None:\n",
    "            if i==0:\n",
    "                theta=theta+new_alpha*(gradient.T)\n",
    "                continue\n",
    "        theta=theta+alpha*(gradient.T)\n",
    "        if np.linalg.norm(theta-old)<Tol:\n",
    "            break\n",
    "  \n",
    "    return theta,alpha"
   ]
  },
  {
   "cell_type": "markdown",
   "metadata": {},
   "source": [
    "# Computed Solution"
   ]
  },
  {
   "cell_type": "code",
   "execution_count": 489,
   "metadata": {},
   "outputs": [
    {
     "name": "stdout",
     "output_type": "stream",
     "text": [
      "[[22.65994918]\n",
      " [-0.8947256 ]\n",
      " [ 1.05129138]\n",
      " [ 0.18567435]\n",
      " [ 0.80028319]\n",
      " [-2.11084624]\n",
      " [ 2.64283524]\n",
      " [ 0.10006532]\n",
      " [-3.05676686]\n",
      " [ 2.87283313]\n",
      " [-2.20962635]\n",
      " [-2.07824705]\n",
      " [ 0.86963593]\n",
      " [-3.80890447]]\n"
     ]
    }
   ],
   "source": [
    "theta,alpha=train_model(IX_train,Y_train,epsilon,tol,maxiter)\n",
    "print(theta)"
   ]
  },
  {
   "cell_type": "markdown",
   "metadata": {},
   "source": [
    "# Computation of Theta using normal equation"
   ]
  },
  {
   "cell_type": "code",
   "execution_count": 490,
   "metadata": {},
   "outputs": [
    {
     "data": {
      "text/plain": [
       "array([[22.65994918],\n",
       "       [-0.89472565],\n",
       "       [ 1.05129147],\n",
       "       [ 0.18567466],\n",
       "       [ 0.80028315],\n",
       "       [-2.11084628],\n",
       "       [ 2.6428352 ],\n",
       "       [ 0.10006537],\n",
       "       [-3.05676682],\n",
       "       [ 2.87283384],\n",
       "       [-2.20962718],\n",
       "       [-2.07824707],\n",
       "       [ 0.86963594],\n",
       "       [-3.80890451]])"
      ]
     },
     "execution_count": 490,
     "metadata": {},
     "output_type": "execute_result"
    }
   ],
   "source": [
    "epsilon=10**(-8)\n",
    "B = np.dot(IX_train.T,IX_train)\n",
    "[m, m] = B.shape\n",
    "Theta = np.linalg.solve(B + epsilon*np.eye(m), np.dot(IX_train.T,Y_train)) \n",
    "Theta"
   ]
  },
  {
   "cell_type": "markdown",
   "metadata": {},
   "source": [
    "### Calculating norm(Theta-theta) where 'theta' is obtained by using (batch) gradient descent method.\n"
   ]
  },
  {
   "cell_type": "code",
   "execution_count": 491,
   "metadata": {},
   "outputs": [
    {
     "data": {
      "text/plain": [
       "1.1403440726226013e-06"
      ]
     },
     "execution_count": 491,
     "metadata": {},
     "output_type": "execute_result"
    }
   ],
   "source": [
    "np.linalg.norm(Theta-theta)"
   ]
  },
  {
   "cell_type": "markdown",
   "metadata": {},
   "source": [
    "# Gradient descent by changing the alpha"
   ]
  },
  {
   "cell_type": "code",
   "execution_count": 492,
   "metadata": {},
   "outputs": [
    {
     "name": "stdout",
     "output_type": "stream",
     "text": [
      "[[22.65994918]\n",
      " [-0.8947256 ]\n",
      " [ 1.05129138]\n",
      " [ 0.18567435]\n",
      " [ 0.80028319]\n",
      " [-2.11084624]\n",
      " [ 2.64283524]\n",
      " [ 0.10006532]\n",
      " [-3.05676686]\n",
      " [ 2.87283313]\n",
      " [-2.20962635]\n",
      " [-2.07824705]\n",
      " [ 0.86963593]\n",
      " [-3.80890447]]\n"
     ]
    }
   ],
   "source": [
    "new_alpha=alpha+(4*(10**(-4)))\n",
    "new_theta,new_alpha=train_model(IX_train,Y_train,epsilon,tol,maxiter,new_alpha)\n",
    "print(new_theta)"
   ]
  },
  {
   "cell_type": "code",
   "execution_count": 493,
   "metadata": {},
   "outputs": [
    {
     "name": "stdout",
     "output_type": "stream",
     "text": [
      "2.4963640413482846e-09\n"
     ]
    }
   ],
   "source": [
    "print(np.linalg.norm(new_theta-theta))"
   ]
  },
  {
   "cell_type": "markdown",
   "metadata": {},
   "source": [
    "# Testing the Model"
   ]
  },
  {
   "cell_type": "code",
   "execution_count": 494,
   "metadata": {},
   "outputs": [],
   "source": [
    "Predicted_Y_test=np.dot(IX_test,theta)"
   ]
  },
  {
   "cell_type": "markdown",
   "metadata": {},
   "source": [
    "# Plotting the data"
   ]
  },
  {
   "cell_type": "code",
   "execution_count": 495,
   "metadata": {},
   "outputs": [
    {
     "data": {
      "text/plain": [
       "<matplotlib.legend.Legend at 0x1b8fedbc0a0>"
      ]
     },
     "execution_count": 495,
     "metadata": {},
     "output_type": "execute_result"
    },
    {
     "data": {
      "image/png": "[encoded data removed]",
      "text/plain": [
       "<Figure size 432x288 with 1 Axes>"
      ]
     },
     "metadata": {
      "needs_background": "light"
     },
     "output_type": "display_data"
    }
   ],
   "source": [
    "plt.plot(Y_test, '-*', color='blue',\n",
    "         markersize=12, linewidth=2,\n",
    "         markerfacecolor='blue',\n",
    "         markeredgecolor='blue',\n",
    "         markeredgewidth=1)\n",
    "plt.plot(Predicted_Y_test, '-o', color='red',\n",
    "         markersize=8, linewidth=2,\n",
    "         markerfacecolor='red',\n",
    "         markeredgecolor='red',\n",
    "         markeredgewidth=1)\n",
    "plt.xlim([ 0, len(Y_test)])\n",
    "plt.xlabel(\"Test Data Points\")\n",
    "plt.ylabel(\"Median house price\")\n",
    "plt.legend({'Actual','Predicted'})"
   ]
  }
 ],
 "metadata": {
  "kernelspec": {
   "display_name": "Python 3",
   "language": "python",
   "name": "python3"
  },
  "language_info": {
   "codemirror_mode": {
    "name": "ipython",
    "version": 3
   },
   "file_extension": ".py",
   "mimetype": "text/x-python",
   "name": "python",
   "nbconvert_exporter": "python",
   "pygments_lexer": "ipython3",
   "version": "3.8.5"
  }
 },
 "nbformat": 4,
 "nbformat_minor": 4
}
